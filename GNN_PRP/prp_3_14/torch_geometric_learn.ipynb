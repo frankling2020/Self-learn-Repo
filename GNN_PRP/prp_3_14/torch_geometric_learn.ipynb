{
 "cells": [
  {
   "cell_type": "markdown",
   "metadata": {},
   "source": [
    "Some to learn Dirichlet distribution"
   ]
  },
  {
   "cell_type": "markdown",
   "metadata": {},
   "source": [
    "#### Reading based on **torch_geometric.data**"
   ]
  },
  {
   "cell_type": "code",
   "execution_count": 1,
   "metadata": {},
   "outputs": [
    {
     "name": "stderr",
     "output_type": "stream",
     "text": [
      "usage: conda-script.py [-h] [-V] command ...\n",
      "conda-script.py: error: unrecognized arguments: https://pytorch-geometric.com/whl/torch-1.11.0+cu113.html\n",
      "usage: conda-script.py [-h] [-V] command ...\n",
      "conda-script.py: error: unrecognized arguments: https://pytorch-geometric.com/whl/torch-1.11.0+cu113.html\n",
      "usage: conda-script.py [-h] [-V] command ...\n",
      "conda-script.py: error: unrecognized arguments: https://pytorch-geometric.com/whl/torch-1.11.0+cu113.html\n",
      "usage: conda-script.py [-h] [-V] command ...\n",
      "conda-script.py: error: unrecognized arguments: https://pytorch-geometric.com/whl/torch-1.11.0+cu113.html\n"
     ]
    },
    {
     "name": "stdout",
     "output_type": "stream",
     "text": [
      "Looking in indexes: https://pypi.tuna.tsinghua.edu.cn/simple\n",
      "Collecting torch_geometric\n",
      "  Using cached torch_geometric-2.0.4-py3-none-any.whl\n",
      "Requirement already satisfied: tqdm in d:\\miniconda\\lib\\site-packages (from torch_geometric) (4.63.0)\n",
      "Requirement already satisfied: numpy in d:\\miniconda\\lib\\site-packages (from torch_geometric) (1.21.5)\n",
      "Requirement already satisfied: jinja2 in d:\\miniconda\\lib\\site-packages (from torch_geometric) (3.0.3)\n",
      "Requirement already satisfied: pandas in d:\\miniconda\\lib\\site-packages (from torch_geometric) (1.4.1)\n",
      "Requirement already satisfied: requests in d:\\miniconda\\lib\\site-packages (from torch_geometric) (2.27.1)\n",
      "Requirement already satisfied: scipy in d:\\miniconda\\lib\\site-packages (from torch_geometric) (1.7.3)\n",
      "Requirement already satisfied: scikit-learn in d:\\miniconda\\lib\\site-packages (from torch_geometric) (1.0.2)\n",
      "Requirement already satisfied: pyparsing in d:\\miniconda\\lib\\site-packages (from torch_geometric) (3.0.4)\n",
      "Requirement already satisfied: MarkupSafe>=2.0 in d:\\miniconda\\lib\\site-packages (from jinja2->torch_geometric) (2.0.1)\n",
      "Requirement already satisfied: python-dateutil>=2.8.1 in d:\\miniconda\\lib\\site-packages (from pandas->torch_geometric) (2.8.2)\n",
      "Requirement already satisfied: pytz>=2020.1 in d:\\miniconda\\lib\\site-packages (from pandas->torch_geometric) (2021.3)\n",
      "Requirement already satisfied: six>=1.5 in d:\\miniconda\\lib\\site-packages (from python-dateutil>=2.8.1->pandas->torch_geometric) (1.16.0)\n",
      "Requirement already satisfied: charset-normalizer~=2.0.0 in d:\\miniconda\\lib\\site-packages (from requests->torch_geometric) (2.0.4)\n",
      "Requirement already satisfied: idna<4,>=2.5 in d:\\miniconda\\lib\\site-packages (from requests->torch_geometric) (3.3)\n",
      "Requirement already satisfied: urllib3<1.27,>=1.21.1 in d:\\miniconda\\lib\\site-packages (from requests->torch_geometric) (1.26.8)\n",
      "Requirement already satisfied: certifi>=2017.4.17 in d:\\miniconda\\lib\\site-packages (from requests->torch_geometric) (2021.10.8)\n",
      "Requirement already satisfied: joblib>=0.11 in d:\\miniconda\\lib\\site-packages (from scikit-learn->torch_geometric) (1.1.0)\n",
      "Requirement already satisfied: threadpoolctl>=2.0.0 in d:\\miniconda\\lib\\site-packages (from scikit-learn->torch_geometric) (2.2.0)\n",
      "Requirement already satisfied: colorama in d:\\miniconda\\lib\\site-packages (from tqdm->torch_geometric) (0.4.4)\n",
      "Installing collected packages: torch-geometric\n",
      "Successfully installed torch-geometric-2.0.4\n"
     ]
    }
   ],
   "source": [
    "# ! pip uninstall torch torch-scatter torch-sparse torch-cluster torch-spline-conv torch_geometric \n",
    "# ! pip3 install torch==1.11.0+cu113 torchvision==0.12.0+cu113 torchaudio===0.11.0+cu113 -f https://download.pytorch.org/whl/cu113/torch_stable.html\n",
    "! pip install torch-scatter -f https://pytorch-geometric.com/whl/torch-1.11.0+cu113.html\n",
    "! pip install torch-sparse -f https://pytorch-geometric.com/whl/torch-1.11.0+cu113.html\n",
    "! pip install torch-cluster -f https://pytorch-geometric.com/whl/torch-1.11.0+cu113.html\n",
    "! pip install torch-spline-conv -f https://pytorch-geometric.com/whl/torch-1.11.0+cu113.html\n",
    "! pip install torch_geometric "
   ]
  },
  {
   "cell_type": "code",
   "execution_count": 2,
   "metadata": {},
   "outputs": [
    {
     "name": "stdout",
     "output_type": "stream",
     "text": [
      "1.11.0+cu113\n"
     ]
    }
   ],
   "source": [
    "import torch\n",
    "from torch_geometric.data import Data\n",
    "print(torch.__version__)"
   ]
  },
  {
   "cell_type": "code",
   "execution_count": 3,
   "metadata": {},
   "outputs": [],
   "source": [
    "data = Data(\n",
    "    x=torch.randn(5, 8, dtype=torch.float),\n",
    "    edge_index=torch.tensor([[0, 1, 2, 2], [1, 2, 3, 4]], dtype=torch.float), \n",
    "    edge_attr=torch.randn(4, 3, dtype=torch.float), \n",
    "    y=[1, 0, 1, 0], \n",
    "    pos=None,\n",
    "    is_edge_attr=True,\n",
    ")"
   ]
  },
  {
   "cell_type": "code",
   "execution_count": 4,
   "metadata": {},
   "outputs": [
    {
     "data": {
      "text/plain": [
       "{'x': tensor([[ 2.4854, -1.8321,  0.3998,  0.5858,  0.4972,  2.2601, -1.0758,  0.5463],\n",
       "         [-0.1436,  0.2834, -0.5831, -0.4188, -1.5793, -0.8771,  1.2000, -1.1072],\n",
       "         [-1.0067,  1.6709,  0.9459,  0.1073,  1.2552,  0.9944,  0.5530,  0.5831],\n",
       "         [-2.2163,  0.4255,  0.6223,  0.5430, -1.9518, -0.6384, -1.1506, -0.1012],\n",
       "         [-0.5135, -2.8689, -1.0064,  0.2019,  1.3231,  0.0591,  0.4485, -0.2316]]),\n",
       " 'edge_index': tensor([[0., 1., 2., 2.],\n",
       "         [1., 2., 3., 4.]]),\n",
       " 'edge_attr': tensor([[-1.1688,  0.8660,  0.0294],\n",
       "         [ 0.0413,  0.6774, -1.8776],\n",
       "         [-0.1538,  1.3029,  0.1149],\n",
       "         [-0.5232,  1.8292,  0.0989]]),\n",
       " 'y': [1, 0, 1, 0],\n",
       " 'is_edge_attr': True}"
      ]
     },
     "execution_count": 4,
     "metadata": {},
     "output_type": "execute_result"
    }
   ],
   "source": [
    "data.to_dict()"
   ]
  },
  {
   "cell_type": "code",
   "execution_count": 5,
   "metadata": {},
   "outputs": [
    {
     "data": {
      "text/plain": [
       "{'x': tensor([[ 2.4854, -1.8321,  0.3998,  0.5858,  0.4972,  2.2601, -1.0758,  0.5463],\n",
       "         [-0.1436,  0.2834, -0.5831, -0.4188, -1.5793, -0.8771,  1.2000, -1.1072],\n",
       "         [-1.0067,  1.6709,  0.9459,  0.1073,  1.2552,  0.9944,  0.5530,  0.5831],\n",
       "         [-2.2163,  0.4255,  0.6223,  0.5430, -1.9518, -0.6384, -1.1506, -0.1012],\n",
       "         [-0.5135, -2.8689, -1.0064,  0.2019,  1.3231,  0.0591,  0.4485, -0.2316]]),\n",
       " 'edge_index': tensor([[0., 1., 2., 2.],\n",
       "         [1., 2., 3., 4.]]),\n",
       " 'edge_attr': tensor([[-1.1688,  0.8660,  0.0294],\n",
       "         [ 0.0413,  0.6774, -1.8776],\n",
       "         [-0.1538,  1.3029,  0.1149],\n",
       "         [-0.5232,  1.8292,  0.0989]]),\n",
       " 'y': [1, 0, 1, 0],\n",
       " 'is_edge_attr': True}"
      ]
     },
     "execution_count": 5,
     "metadata": {},
     "output_type": "execute_result"
    }
   ],
   "source": [
    "data.apply(torch.exp, \"pos\").to_dict()"
   ]
  },
  {
   "cell_type": "code",
   "execution_count": 6,
   "metadata": {},
   "outputs": [
    {
     "data": {
      "text/plain": [
       "False"
      ]
     },
     "execution_count": 6,
     "metadata": {},
     "output_type": "execute_result"
    }
   ],
   "source": [
    "data.has_isolated_nodes()"
   ]
  },
  {
   "cell_type": "code",
   "execution_count": 7,
   "metadata": {},
   "outputs": [],
   "source": [
    "import networkx as nx\n",
    "from torch_geometric.utils import to_networkx"
   ]
  },
  {
   "cell_type": "code",
   "execution_count": 8,
   "metadata": {},
   "outputs": [
    {
     "data": {
      "image/png": "[encoded data removed]",
      "text/plain": [
       "<Figure size 432x288 with 1 Axes>"
      ]
     },
     "metadata": {},
     "output_type": "display_data"
    }
   ],
   "source": [
    "G = to_networkx(data, to_undirected=False)\n",
    "nx.draw(G, pos=nx.spiral_layout(G))"
   ]
  },
  {
   "cell_type": "markdown",
   "metadata": {},
   "source": [
    "- index_select: choose nodes\n",
    "- `TemporalData`: the shape of src, dst, t and the first dimension of :obj.msg should be the same (num_events).\n",
    "- raw_file_names and processed_file_names exist to ship the download or process"
   ]
  },
  {
   "cell_type": "markdown",
   "metadata": {},
   "source": [
    "##### Further Reading based on **CREATING YOUR OWN DATASETS**\n",
    "- @property raw_file_names: list of file names\n",
    "- @property processed_file_names: return ['data.pt']\n",
    "- download: download_url(url, self.raw_dir)\n",
    "- process: pre_transform, pre_filter\n",
    "- Application of ImbalancedSampler: sampler in other loaders\n",
    "\n",
    "-\n",
    "  - transform\n",
    "  - pre_transform\n",
    "  - subgraph\n",
    "  - pin_memory, share_memory"
   ]
  },
  {
   "cell_type": "markdown",
   "metadata": {},
   "source": [
    "#### Reading on **torch_geometric.loader**\n",
    "- Dataloader: mini-batch\n",
    "- Over-smoothing: GraphSAINT (node/edge/random walk), multi-dimensional random walk sampler\n",
    "- ClusterData/ClusterLoader: useful to construct some motifs?"
   ]
  },
  {
   "cell_type": "code",
   "execution_count": null,
   "metadata": {},
   "outputs": [],
   "source": [
    "from torch_geometric.datasets import Planetoid\n",
    "from torch_geometric.loader import NeighborLoader\n",
    "\n",
    "data = Planetoid(root=\"./HWK3/dataset\", name='Cora')[0]\n",
    "\n",
    "loader = NeighborLoader(\n",
    "    data,\n",
    "    # Sample 5 neighbors for each node for 2 iterations\n",
    "    num_neighbors=[5] * 2,\n",
    "    # Use a batch size of 128 for sampling training nodes\n",
    "    batch_size=16,\n",
    "    input_nodes=data.train_mask,\n",
    ")"
   ]
  },
  {
   "cell_type": "markdown",
   "metadata": {},
   "source": [
    "#### Reading on **torch_geometric.dataset**"
   ]
  },
  {
   "cell_type": "markdown",
   "metadata": {},
   "source": [
    "- TUDataset, SNAPDataset, OGB_MAG\n",
    "- semi-supervised: KarateClub, Planetoid\n",
    "- knowledge graph: NELL\n",
    "- unsupervised/inductive: CitationFull, Reddit, Flickr, Yelp, AmazonProducts\n",
    "- self-supervised: RandomPartitionGraphDataset\n",
    "- Pitfall in evaluation: Coauthor, Amazon\n",
    "- Protein-Protein/Molecule: PPI, QM7b, QM9\n",
    "- Deep Learning: MNISTSuperpixels, ModelNet\n"
   ]
  },
  {
   "cell_type": "markdown",
   "metadata": {},
   "source": [
    "- split: to load different sets"
   ]
  },
  {
   "cell_type": "markdown",
   "metadata": {},
   "source": [
    "#### Reading on **torch_geometric.transform**"
   ]
  },
  {
   "cell_type": "markdown",
   "metadata": {},
   "source": [
    "- Compose\n",
    "- ToSparseTensor: Convert the edge_index attributes of a homogeneous or heterogeneous data object into a (transposed) torch_sparse.SparseTensor type with key adj_.t.\n",
    "- whether save the relative coordinate\n",
    "- RemoveIsolatedNodes, AddSelfLoops, TwoHop\n",
    "- OneHotDegree: add some topological information as the hot encoding to the node features\n",
    "  - insights: augmented node features with topological features\n",
    "- TargetIndegree: add destination node feature to the edge\n",
    "  - Insights: related the node pair to the edge features\n",
    "- RandomNodeSplit, RandomEdgeSplit, VirtualNode\n",
    "- ToDense, GDC, SamplePoints, FixedPoints\n",
    "- Not understood: FaceToEdge, LargestConnectedComponents"
   ]
  }
 ],
 "metadata": {
  "interpreter": {
   "hash": "4ce0e62306dd6a5716965d4519ada776f947e6dfc145b604b11307c10277ef29"
  },
  "kernelspec": {
   "display_name": "Python 3.9.9 64-bit",
   "language": "python",
   "name": "python3"
  },
  "language_info": {
   "codemirror_mode": {
    "name": "ipython",
    "version": 3
   },
   "file_extension": ".py",
   "mimetype": "text/x-python",
   "name": "python",
   "nbconvert_exporter": "python",
   "pygments_lexer": "ipython3",
   "version": "3.9.7"
  },
  "orig_nbformat": 4
 },
 "nbformat": 4,
 "nbformat_minor": 2
}

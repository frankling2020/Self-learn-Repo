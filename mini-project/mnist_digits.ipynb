{
 "cells": [
  {
   "cell_type": "code",
   "execution_count": 1,
   "metadata": {},
   "outputs": [],
   "source": [
    "import numpy as np\n",
    "import torch \n",
    "from torch import nn\n",
    "from PIL import Image\n",
    "import matplotlib.pyplot as plt\n",
    "import os\n",
    "from torchvision import datasets, transforms,utils"
   ]
  },
  {
   "cell_type": "code",
   "execution_count": 2,
   "metadata": {},
   "outputs": [],
   "source": [
    "import numpy\n",
    "def setup_seed(seed):\n",
    "    torch.manual_seed(seed)\n",
    "    torch.cuda.manual_seed_all(seed)\n",
    "    np.random.seed(seed)\n",
    "    torch.backends.cudnn.deterministic = True\n",
    "\n",
    "setup_seed(22)"
   ]
  },
  {
   "cell_type": "code",
   "execution_count": 3,
   "metadata": {},
   "outputs": [],
   "source": [
    "transform = transforms.Compose([transforms.ToTensor(),\n",
    "                                transforms.\n",
    "                               transforms.Normalize(mean=[0.5],std=[0.5])])\n",
    "train_data = datasets.MNIST(root = \"./data/\",\n",
    "                            transform=transform,\n",
    "                            train = True,\n",
    "                            download = True)\n",
    "\n",
    "test_data = datasets.MNIST(root=\"./data/\",\n",
    "                           transform = transform,\n",
    "                           train = False)"
   ]
  },
  {
   "cell_type": "code",
   "execution_count": 4,
   "metadata": {},
   "outputs": [
    {
     "name": "stdout",
     "output_type": "stream",
     "text": [
      "938 157\n"
     ]
    }
   ],
   "source": [
    "train_loader = torch.utils.data.DataLoader(train_data,batch_size=64,\n",
    "                                          shuffle=True)\n",
    "test_loader = torch.utils.data.DataLoader(test_data,batch_size=64,\n",
    "                                          shuffle=True)\n",
    "\n",
    "print(len(train_loader), len(test_loader))"
   ]
  },
  {
   "cell_type": "code",
   "execution_count": 5,
   "metadata": {},
   "outputs": [
    {
     "data": {
      "image/png": "[encoded data removed]",
      "text/plain": [
       "<Figure size 432x288 with 1 Axes>"
      ]
     },
     "metadata": {
      "needs_background": "light"
     },
     "output_type": "display_data"
    }
   ],
   "source": [
    "oneimg,label = train_data[0]\n",
    "oneimg = oneimg.numpy().transpose(1,2,0) \n",
    "std = [0.5]\n",
    "mean = [0.5]\n",
    "oneimg = oneimg * std + mean\n",
    "oneimg.resize(28,28)\n",
    "plt.imshow(oneimg)\n",
    "plt.show()"
   ]
  },
  {
   "cell_type": "code",
   "execution_count": 6,
   "metadata": {},
   "outputs": [],
   "source": [
    "import torch.nn.functional as F\n",
    "class AutoEncoder(nn.Module):\n",
    "    def __init__(self):\n",
    "        super().__init__()\n",
    "        self.encoder = nn.Sequential(\n",
    "            nn.Conv2d(1, 4, 5, stride=1, padding=2), # batch x 4 x 28 x 28\n",
    "            nn.BatchNorm2d(4),\n",
    "            nn.ReLU(),\n",
    "            nn.MaxPool2d(2, stride=2, return_indices=True), # batch x 4 x 14 x 14\n",
    "        )\n",
    "\n",
    "        self.unpool = nn.MaxUnpool2d(2, stride=2, padding=0)\n",
    "\n",
    "        self.decoder = nn.Sequential( \n",
    "            # nn.ConvTranspose2d(4, 4, 2, stride=1, padding=0), \n",
    "            nn.ReLU(),\n",
    "            nn.BatchNorm2d(4),\n",
    "            nn.ConvTranspose2d(4, 1, 5, stride=1, padding=2, output_padding=0), \n",
    "            nn.ReLU(),\n",
    "        )\n",
    "\n",
    "        # self.reg = nn.Parameter(torch.Tensor[0.5])s\n",
    "        self.pos_mlp = nn.Sequential(nn.Linear(784, 128), nn.BatchNorm1d(128), nn.Dropout(), nn.Linear(128, 11))\n",
    "        \n",
    "        self.reset_parameters()\n",
    "    \n",
    "    def reset_parameters(self):\n",
    "        for conv in self.encoder:\n",
    "            if isinstance(conv, nn.Conv2d):\n",
    "                nn.init.xavier_normal_(conv.weight.data)\n",
    "        for conv in self.decoder:\n",
    "            if isinstance(conv, nn.Conv2d):\n",
    "                nn.init.xavier_normal_(conv.weight.data)\n",
    "        for layer in self.pos_mlp:\n",
    "            if isinstance(layer, nn.Linear):\n",
    "                nn.init.xavier_normal_(layer.weight.data)\n",
    "                nn.init.zeros_(layer.bias.data)\n",
    "        \n",
    "    def forward(self, x):\n",
    "        encoded_x, indices = self.encoder(x)\n",
    "        decoded_x = self.unpool(encoded_x, indices)\n",
    "        encoded_x = self.pos_mlp(encoded_x.view(x.shape[0], -1))\n",
    "        decoded_x = self.decoder(decoded_x)\n",
    "        # print(decoded_x.shape)\n",
    "        return decoded_x, encoded_x\n",
    "\n",
    "net = AutoEncoder()        "
   ]
  },
  {
   "cell_type": "code",
   "execution_count": 7,
   "metadata": {},
   "outputs": [],
   "source": [
    "import torch.optim as optim\n",
    "\n",
    "criterion1 = nn.CrossEntropyLoss()\n",
    "criterion2 = nn.MSELoss()\n",
    "optimizer = torch.optim.Adam(net.parameters(), lr=5e-3)   \n",
    "reg = 2e-3"
   ]
  },
  {
   "cell_type": "code",
   "execution_count": 8,
   "metadata": {},
   "outputs": [
    {
     "name": "stdout",
     "output_type": "stream",
     "text": [
      "[1,  100] loss :0.460\n",
      "[1,  200] loss :0.219\n",
      "[1,  300] loss :0.199\n",
      "[1,  400] loss :0.170\n",
      "[1,  500] loss :0.177\n",
      "[1,  600] loss :0.159\n",
      "[1,  700] loss :0.135\n",
      "[1,  800] loss :0.142\n",
      "[1,  900] loss :0.137\n",
      "[2,  100] loss :0.120\n",
      "[2,  200] loss :0.118\n",
      "[2,  300] loss :0.141\n",
      "[2,  400] loss :0.127\n",
      "[2,  500] loss :0.114\n",
      "[2,  600] loss :0.116\n",
      "[2,  700] loss :0.119\n",
      "[2,  800] loss :0.119\n",
      "[2,  900] loss :0.117\n",
      "[3,  100] loss :0.092\n",
      "[3,  200] loss :0.108\n",
      "[3,  300] loss :0.097\n",
      "[3,  400] loss :0.106\n",
      "[3,  500] loss :0.099\n",
      "[3,  600] loss :0.104\n",
      "[3,  700] loss :0.106\n",
      "[3,  800] loss :0.107\n",
      "[3,  900] loss :0.091\n",
      "Finished Training\n"
     ]
    }
   ],
   "source": [
    "train_accs = []\n",
    "train_loss = []\n",
    "test_accs = []\n",
    "device = torch.device(\"cuda:0\" if torch.cuda.is_available() else \"cpu\")\n",
    "net = net.to(device)\n",
    "for epoch in range(10):\n",
    "    running_loss = 0.0\n",
    "    for i,data in enumerate(train_loader,0):#0是下标起始位置默认为0\n",
    "        inputs,labels = data[0].to(device), data[1].to(device)\n",
    "        optimizer.zero_grad()         \n",
    "        \n",
    "        decoded_x, encoded_x = net(inputs)\n",
    "        loss = criterion1(encoded_x, labels) + reg * criterion2(decoded_x, inputs)\n",
    "        loss.backward()\n",
    "        optimizer.step()\n",
    "        \n",
    "        running_loss += loss.item()\n",
    "        if i%100 == 99:\n",
    "            print('[%d,%5d] loss :%.3f' %\n",
    "                 (epoch+1,i+1,running_loss/100))\n",
    "            running_loss = 0.0\n",
    "        train_loss.append(loss.item())\n",
    "        \n",
    "        correct = 0\n",
    "        total = 0\n",
    "        _, predicted = torch.max(encoded_x.data, 1)\n",
    "        total = labels.size(0)\n",
    "        correct = (predicted == labels).sum().item()\n",
    "        train_accs.append(100*correct/total)\n",
    "        \n",
    "print('Finished Training')            "
   ]
  },
  {
   "cell_type": "code",
   "execution_count": 9,
   "metadata": {},
   "outputs": [],
   "source": [
    "def draw_train_process(title,iters,costs,accs,label_cost,lable_acc):\n",
    "    plt.title(title, fontsize=24)\n",
    "    plt.xlabel(\"iter\", fontsize=20)\n",
    "    plt.ylabel(\"acc(\\%)\", fontsize=20)\n",
    "    plt.plot(iters, costs,color='red',label=label_cost) \n",
    "    plt.plot(iters, accs,color='green',label=lable_acc) \n",
    "    plt.legend()\n",
    "    plt.grid()\n",
    "    plt.show()"
   ]
  },
  {
   "cell_type": "code",
   "execution_count": 10,
   "metadata": {},
   "outputs": [
    {
     "data": {
      "image/png": "[encoded data removed]",
      "text/plain": [
       "<Figure size 432x288 with 1 Axes>"
      ]
     },
     "metadata": {
      "needs_background": "light"
     },
     "output_type": "display_data"
    }
   ],
   "source": [
    "train_iters = range(len(train_accs))\n",
    "draw_train_process('training',train_iters,train_loss,train_accs,'training loss','training acc')"
   ]
  },
  {
   "cell_type": "code",
   "execution_count": 11,
   "metadata": {},
   "outputs": [],
   "source": [
    "PATH = './mnist_net.pth'\n",
    "torch.save(net.state_dict(), PATH)"
   ]
  },
  {
   "cell_type": "code",
   "execution_count": 12,
   "metadata": {},
   "outputs": [],
   "source": [
    "dataiter = iter(test_loader)\n",
    "images, labels = dataiter.next()"
   ]
  },
  {
   "cell_type": "code",
   "execution_count": 13,
   "metadata": {},
   "outputs": [],
   "source": [
    "test_net = AutoEncoder()\n",
    "test_net.load_state_dict(torch.load(PATH))\n",
    "test_out = test_net(images)"
   ]
  },
  {
   "cell_type": "code",
   "execution_count": 14,
   "metadata": {},
   "outputs": [
    {
     "name": "stdout",
     "output_type": "stream",
     "text": [
      "Accuracy of the network on the  test images: 96 %\n"
     ]
    }
   ],
   "source": [
    "correct = 0\n",
    "total = 0\n",
    "with torch.no_grad():# 进行评测的时候网络不更新梯度\n",
    "    for data in test_loader:\n",
    "        images, labels = data\n",
    "        _, outputs = test_net(images)\n",
    "        _, predicted = torch.max(outputs.data, 1)\n",
    "        total += labels.size(0)# labels 的长度\n",
    "        correct += (predicted == labels).sum().item() # 预测正确的数目\n",
    "\n",
    "print('Accuracy of the network on the  test images: %d %%' % (\n",
    "    100 * correct / total))"
   ]
  },
  {
   "cell_type": "code",
   "execution_count": 15,
   "metadata": {},
   "outputs": [
    {
     "name": "stdout",
     "output_type": "stream",
     "text": [
      "Accuracy of 0 : 100 %\n",
      "Accuracy of 1 : 99 %\n",
      "Accuracy of 2 : 96 %\n",
      "Accuracy of 3 : 99 %\n",
      "Accuracy of 4 : 97 %\n",
      "Accuracy of 5 : 99 %\n",
      "Accuracy of 6 : 97 %\n",
      "Accuracy of 7 : 97 %\n",
      "Accuracy of 8 : 98 %\n",
      "Accuracy of 9 : 96 %\n"
     ]
    }
   ],
   "source": [
    "class_correct = list(0. for i in range(10))\n",
    "class_total = list(0. for i in range(10))\n",
    "with torch.no_grad():\n",
    "    for data in test_loader:\n",
    "        images, labels = data\n",
    "        _, outputs = test_net(images)\n",
    "        _, predicted = torch.max(outputs, 1)\n",
    "        c = (predicted == labels)\n",
    "#         print(predicted == labels)\n",
    "        for i in range(10):\n",
    "            label = labels[i]\n",
    "            class_correct[label] += c[i].item()\n",
    "            class_total[label] += 1\n",
    "\n",
    "\n",
    "for i in range(10):\n",
    "    print('Accuracy of %d : %2d %%' % (\n",
    "        i, 100 * class_correct[i] / class_total[i]))"
   ]
  },
  {
   "cell_type": "code",
   "execution_count": null,
   "metadata": {},
   "outputs": [],
   "source": []
  }
 ],
 "metadata": {
  "interpreter": {
   "hash": "4ce0e62306dd6a5716965d4519ada776f947e6dfc145b604b11307c10277ef29"
  },
  "kernelspec": {
   "display_name": "Python 3.9.9 64-bit",
   "language": "python",
   "name": "python3"
  },
  "language_info": {
   "codemirror_mode": {
    "name": "ipython",
    "version": 3
   },
   "file_extension": ".py",
   "mimetype": "text/x-python",
   "name": "python",
   "nbconvert_exporter": "python",
   "pygments_lexer": "ipython3",
   "version": "3.9.9"
  },
  "orig_nbformat": 4
 },
 "nbformat": 4,
 "nbformat_minor": 2
}
